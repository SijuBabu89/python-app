{
  "nbformat": 4,
  "nbformat_minor": 0,
  "metadata": {
    "colab": {
      "provenance": []
    },
    "kernelspec": {
      "name": "python3",
      "display_name": "Python 3"
    },
    "language_info": {
      "name": "python"
    }
  },
  "cells": [
    {
      "cell_type": "code",
      "execution_count": null,
      "metadata": {
        "colab": {
          "base_uri": "https://localhost:8080/"
        },
        "id": "bcasvpMH4xIE",
        "outputId": "6d670021-8fe9-49b2-b546-f18a8b42a96e"
      },
      "outputs": [
        {
          "output_type": "stream",
          "name": "stdout",
          "text": [
            "Requirement already satisfied: pymilvus in /usr/local/lib/python3.10/dist-packages (2.3.3)\n",
            "Collecting grpcio<=1.58.0,>=1.49.1 (from pymilvus)\n",
            "  Using cached grpcio-1.58.0-cp310-cp310-manylinux_2_17_x86_64.manylinux2014_x86_64.whl (5.3 MB)\n",
            "Requirement already satisfied: protobuf>=3.20.0 in /usr/local/lib/python3.10/dist-packages (from pymilvus) (3.20.3)\n",
            "Requirement already satisfied: environs<=9.5.0 in /usr/local/lib/python3.10/dist-packages (from pymilvus) (9.5.0)\n",
            "Requirement already satisfied: ujson>=2.0.0 in /usr/local/lib/python3.10/dist-packages (from pymilvus) (5.8.0)\n",
            "Requirement already satisfied: pandas>=1.2.4 in /usr/local/lib/python3.10/dist-packages (from pymilvus) (1.5.3)\n",
            "Requirement already satisfied: requests in /usr/local/lib/python3.10/dist-packages (from pymilvus) (2.31.0)\n",
            "Requirement already satisfied: minio>=7.0.0 in /usr/local/lib/python3.10/dist-packages (from pymilvus) (7.2.0)\n",
            "Requirement already satisfied: marshmallow>=3.0.0 in /usr/local/lib/python3.10/dist-packages (from environs<=9.5.0->pymilvus) (3.20.1)\n",
            "Requirement already satisfied: python-dotenv in /usr/local/lib/python3.10/dist-packages (from environs<=9.5.0->pymilvus) (1.0.0)\n",
            "Requirement already satisfied: certifi in /usr/local/lib/python3.10/dist-packages (from minio>=7.0.0->pymilvus) (2023.7.22)\n",
            "Requirement already satisfied: urllib3 in /usr/local/lib/python3.10/dist-packages (from minio>=7.0.0->pymilvus) (2.0.7)\n",
            "Requirement already satisfied: argon2-cffi in /usr/local/lib/python3.10/dist-packages (from minio>=7.0.0->pymilvus) (23.1.0)\n",
            "Requirement already satisfied: pycryptodome in /usr/local/lib/python3.10/dist-packages (from minio>=7.0.0->pymilvus) (3.19.0)\n",
            "Requirement already satisfied: python-dateutil>=2.8.1 in /usr/local/lib/python3.10/dist-packages (from pandas>=1.2.4->pymilvus) (2.8.2)\n",
            "Requirement already satisfied: pytz>=2020.1 in /usr/local/lib/python3.10/dist-packages (from pandas>=1.2.4->pymilvus) (2023.3.post1)\n",
            "Requirement already satisfied: numpy>=1.21.0 in /usr/local/lib/python3.10/dist-packages (from pandas>=1.2.4->pymilvus) (1.23.5)\n",
            "Requirement already satisfied: charset-normalizer<4,>=2 in /usr/local/lib/python3.10/dist-packages (from requests->pymilvus) (3.3.2)\n",
            "Requirement already satisfied: idna<4,>=2.5 in /usr/local/lib/python3.10/dist-packages (from requests->pymilvus) (3.4)\n",
            "Requirement already satisfied: packaging>=17.0 in /usr/local/lib/python3.10/dist-packages (from marshmallow>=3.0.0->environs<=9.5.0->pymilvus) (23.2)\n",
            "Requirement already satisfied: six>=1.5 in /usr/local/lib/python3.10/dist-packages (from python-dateutil>=2.8.1->pandas>=1.2.4->pymilvus) (1.16.0)\n",
            "Requirement already satisfied: argon2-cffi-bindings in /usr/local/lib/python3.10/dist-packages (from argon2-cffi->minio>=7.0.0->pymilvus) (21.2.0)\n",
            "Requirement already satisfied: cffi>=1.0.1 in /usr/local/lib/python3.10/dist-packages (from argon2-cffi-bindings->argon2-cffi->minio>=7.0.0->pymilvus) (1.16.0)\n",
            "Requirement already satisfied: pycparser in /usr/local/lib/python3.10/dist-packages (from cffi>=1.0.1->argon2-cffi-bindings->argon2-cffi->minio>=7.0.0->pymilvus) (2.21)\n",
            "\u001b[31mERROR: Operation cancelled by user\u001b[0m\u001b[31m\n",
            "\u001b[0m"
          ]
        }
      ],
      "source": [
        "!pip install pymilvus"
      ]
    },
    {
      "cell_type": "code",
      "source": [
        "!pip install grpcio==1.59.2"
      ],
      "metadata": {
        "colab": {
          "base_uri": "https://localhost:8080/"
        },
        "id": "DjLsQ-Mx5b6L",
        "outputId": "732474e5-9586-4eea-eeed-a2ad5331f3e8"
      },
      "execution_count": null,
      "outputs": [
        {
          "output_type": "stream",
          "name": "stdout",
          "text": [
            "Collecting grpcio==1.59.2\n",
            "  Using cached grpcio-1.59.2-cp310-cp310-manylinux_2_17_x86_64.manylinux2014_x86_64.whl (5.3 MB)\n",
            "Installing collected packages: grpcio\n",
            "  Attempting uninstall: grpcio\n",
            "    Found existing installation: grpcio 1.58.0\n",
            "    Uninstalling grpcio-1.58.0:\n",
            "      Successfully uninstalled grpcio-1.58.0\n",
            "\u001b[31mERROR: pip's dependency resolver does not currently take into account all the packages that are installed. This behaviour is the source of the following dependency conflicts.\n",
            "pymilvus 2.3.3 requires grpcio<=1.58.0,>=1.49.1, but you have grpcio 1.59.2 which is incompatible.\u001b[0m\u001b[31m\n",
            "\u001b[0mSuccessfully installed grpcio-1.59.2\n"
          ]
        }
      ]
    },
    {
      "cell_type": "code",
      "source": [
        "from pymilvus import connections, db\n",
        "\n",
        "conn = connections.connect(host=\"ec2-34-223-50-104.us-west-2.compute.amazonaws.com\", port=19530)"
      ],
      "metadata": {
        "id": "AQ86ezUa5ASm"
      },
      "execution_count": null,
      "outputs": []
    },
    {
      "cell_type": "code",
      "source": [
        "conn"
      ],
      "metadata": {
        "id": "GxW8fqmCKoZa"
      },
      "execution_count": null,
      "outputs": []
    },
    {
      "cell_type": "code",
      "source": [
        "print(conn)"
      ],
      "metadata": {
        "colab": {
          "base_uri": "https://localhost:8080/"
        },
        "id": "YpoD9fzCKqxA",
        "outputId": "fd4badf0-243f-4347-a679-64002bd10723"
      },
      "execution_count": null,
      "outputs": [
        {
          "output_type": "stream",
          "name": "stdout",
          "text": [
            "None\n"
          ]
        }
      ]
    },
    {
      "cell_type": "code",
      "source": [
        "database = db.create_database(\"book\")"
      ],
      "metadata": {
        "id": "l6mqQThdK1qm"
      },
      "execution_count": null,
      "outputs": []
    },
    {
      "cell_type": "code",
      "source": [
        "db.using_database(\"book\")"
      ],
      "metadata": {
        "id": "qt1v7W9SLN45"
      },
      "execution_count": null,
      "outputs": []
    },
    {
      "cell_type": "code",
      "source": [
        "database"
      ],
      "metadata": {
        "id": "MuQFqSPALPaC"
      },
      "execution_count": null,
      "outputs": []
    },
    {
      "cell_type": "code",
      "source": [
        "index_params = {\n",
        "  \"metric_type\":\"L2\",\n",
        "  \"index_type\":\"IVF_FLAT\",\n",
        "  \"params\":{\"nlist\":1024}\n",
        "}"
      ],
      "metadata": {
        "id": "2NrrGFpbLXq3"
      },
      "execution_count": null,
      "outputs": []
    },
    {
      "cell_type": "code",
      "source": [
        "from pymilvus import Collection, utility\n",
        "# Get an existing collection.\n",
        "collection = Collection(\"book\")\n",
        "collection.create_index(\n",
        "  field_name=\"book_intro\",\n",
        "  index_params=index_params\n",
        ")\n",
        "\n",
        "utility.index_building_progress(\"book\")\n",
        "# Output: {'total_rows': 0, 'indexed_rows': 0}"
      ],
      "metadata": {
        "colab": {
          "base_uri": "https://localhost:8080/",
          "height": 385
        },
        "id": "038kX0BaLcft",
        "outputId": "27c6b816-fc4e-4cc9-a2c4-d681bff5bfb7"
      },
      "execution_count": null,
      "outputs": [
        {
          "output_type": "error",
          "ename": "SchemaNotReadyException",
          "evalue": "ignored",
          "traceback": [
            "\u001b[0;31m---------------------------------------------------------------------------\u001b[0m",
            "\u001b[0;31mSchemaNotReadyException\u001b[0m                   Traceback (most recent call last)",
            "\u001b[0;32m<ipython-input-18-46ff69c83b28>\u001b[0m in \u001b[0;36m<cell line: 3>\u001b[0;34m()\u001b[0m\n\u001b[1;32m      1\u001b[0m \u001b[0;32mfrom\u001b[0m \u001b[0mpymilvus\u001b[0m \u001b[0;32mimport\u001b[0m \u001b[0mCollection\u001b[0m\u001b[0;34m,\u001b[0m \u001b[0mutility\u001b[0m\u001b[0;34m\u001b[0m\u001b[0;34m\u001b[0m\u001b[0m\n\u001b[1;32m      2\u001b[0m \u001b[0;31m# Get an existing collection.\u001b[0m\u001b[0;34m\u001b[0m\u001b[0;34m\u001b[0m\u001b[0m\n\u001b[0;32m----> 3\u001b[0;31m \u001b[0mcollection\u001b[0m \u001b[0;34m=\u001b[0m \u001b[0mCollection\u001b[0m\u001b[0;34m(\u001b[0m\u001b[0;34m\"book\"\u001b[0m\u001b[0;34m)\u001b[0m\u001b[0;34m\u001b[0m\u001b[0;34m\u001b[0m\u001b[0m\n\u001b[0m\u001b[1;32m      4\u001b[0m collection.create_index(\n\u001b[1;32m      5\u001b[0m   \u001b[0mfield_name\u001b[0m\u001b[0;34m=\u001b[0m\u001b[0;34m\"book_intro\"\u001b[0m\u001b[0;34m,\u001b[0m\u001b[0;34m\u001b[0m\u001b[0;34m\u001b[0m\u001b[0m\n",
            "\u001b[0;32m/usr/local/lib/python3.10/dist-packages/pymilvus/orm/collection.py\u001b[0m in \u001b[0;36m__init__\u001b[0;34m(self, name, schema, using, **kwargs)\u001b[0m\n\u001b[1;32m    136\u001b[0m         \u001b[0;32melse\u001b[0m\u001b[0;34m:\u001b[0m\u001b[0;34m\u001b[0m\u001b[0;34m\u001b[0m\u001b[0m\n\u001b[1;32m    137\u001b[0m             \u001b[0;32mif\u001b[0m \u001b[0mschema\u001b[0m \u001b[0;32mis\u001b[0m \u001b[0;32mNone\u001b[0m\u001b[0;34m:\u001b[0m\u001b[0;34m\u001b[0m\u001b[0;34m\u001b[0m\u001b[0m\n\u001b[0;32m--> 138\u001b[0;31m                 raise SchemaNotReadyException(\n\u001b[0m\u001b[1;32m    139\u001b[0m                     \u001b[0mmessage\u001b[0m\u001b[0;34m=\u001b[0m\u001b[0mExceptionsMessage\u001b[0m\u001b[0;34m.\u001b[0m\u001b[0mCollectionNotExistNoSchema\u001b[0m \u001b[0;34m%\u001b[0m \u001b[0mname\u001b[0m\u001b[0;34m\u001b[0m\u001b[0;34m\u001b[0m\u001b[0m\n\u001b[1;32m    140\u001b[0m                 )\n",
            "\u001b[0;31mSchemaNotReadyException\u001b[0m: <SchemaNotReadyException: (code=1, message=Collection 'book' not exist, or you can pass in schema to create one.)>"
          ]
        }
      ]
    },
    {
      "cell_type": "code",
      "source": [
        "from pymilvus import CollectionSchema, FieldSchema, DataType\n",
        "book_id = FieldSchema(\n",
        "  name=\"book_id\",\n",
        "  dtype=DataType.INT64,\n",
        "  is_primary=True,\n",
        ")\n",
        "book_name = FieldSchema(\n",
        "  name=\"book_name\",\n",
        "  dtype=DataType.VARCHAR,\n",
        "  max_length=200,\n",
        "  # The default value will be used if this field is left empty during data inserts or upserts.\n",
        "  # The data type of `default_value` must be the same as that specified in `dtype`.\n",
        "  default_value=\"Unknown\"\n",
        ")\n",
        "word_count = FieldSchema(\n",
        "  name=\"word_count\",\n",
        "  dtype=DataType.INT64,\n",
        "  # The default value will be used if this field is left empty during data inserts or upserts.\n",
        "  # The data type of `default_value` must be the same as that specified in `dtype`.\n",
        "  default_value=9999\n",
        ")\n",
        "book_intro = FieldSchema(\n",
        "  name=\"book_intro\",\n",
        "  dtype=DataType.FLOAT_VECTOR,\n",
        "  dim=2\n",
        ")\n",
        "schema = CollectionSchema(\n",
        "  fields=[book_id, book_name, word_count, book_intro],\n",
        "  description=\"Test book search\",\n",
        "  enable_dynamic_field=True\n",
        ")\n",
        "collection_name = \"book\""
      ],
      "metadata": {
        "id": "M6LiVDq0LxN0"
      },
      "execution_count": null,
      "outputs": []
    },
    {
      "cell_type": "code",
      "source": [
        "from pymilvus import Collection\n",
        "collection = Collection(\n",
        "    name=collection_name,\n",
        "    schema=schema,\n",
        "    using='default',\n",
        "    shards_num=2\n",
        "    )"
      ],
      "metadata": {
        "id": "QwnQA50FLy3x"
      },
      "execution_count": null,
      "outputs": []
    },
    {
      "cell_type": "code",
      "source": [
        "collection"
      ],
      "metadata": {
        "colab": {
          "base_uri": "https://localhost:8080/"
        },
        "id": "cCDfmFoEL4yn",
        "outputId": "1393248c-344c-4d28-95b5-5cfea1e4290e"
      },
      "execution_count": null,
      "outputs": [
        {
          "output_type": "execute_result",
          "data": {
            "text/plain": [
              "<Collection>:\n",
              "-------------\n",
              "<name>: book\n",
              "<description>: Test book search\n",
              "<schema>: {'auto_id': False, 'description': 'Test book search', 'fields': [{'name': 'book_id', 'description': '', 'type': <DataType.INT64: 5>, 'is_primary': True, 'auto_id': False}, {'name': 'book_name', 'description': '', 'type': <DataType.VARCHAR: 21>, 'params': {'max_length': 200}}, {'name': 'word_count', 'description': '', 'type': <DataType.INT64: 5>}, {'name': 'book_intro', 'description': '', 'type': <DataType.FLOAT_VECTOR: 101>, 'params': {'dim': 2}}], 'enable_dynamic_field': True}"
            ]
          },
          "metadata": {},
          "execution_count": 21
        }
      ]
    },
    {
      "cell_type": "code",
      "source": [
        "!pip install langchain"
      ],
      "metadata": {
        "colab": {
          "base_uri": "https://localhost:8080/"
        },
        "id": "e2FP1kUSNOvt",
        "outputId": "54abb7af-10b5-4c01-db6f-ba0b7659103c"
      },
      "execution_count": null,
      "outputs": [
        {
          "output_type": "stream",
          "name": "stdout",
          "text": [
            "Collecting langchain\n",
            "  Downloading langchain-0.0.342-py3-none-any.whl (1.9 MB)\n",
            "\u001b[2K     \u001b[90m━━━━━━━━━━━━━━━━━━━━━━━━━━━━━━━━━━━━━━━━\u001b[0m \u001b[32m1.9/1.9 MB\u001b[0m \u001b[31m11.6 MB/s\u001b[0m eta \u001b[36m0:00:00\u001b[0m\n",
            "\u001b[?25hRequirement already satisfied: PyYAML>=5.3 in /usr/local/lib/python3.10/dist-packages (from langchain) (6.0.1)\n",
            "Requirement already satisfied: SQLAlchemy<3,>=1.4 in /usr/local/lib/python3.10/dist-packages (from langchain) (2.0.23)\n",
            "Requirement already satisfied: aiohttp<4.0.0,>=3.8.3 in /usr/local/lib/python3.10/dist-packages (from langchain) (3.8.6)\n",
            "Requirement already satisfied: anyio<4.0 in /usr/local/lib/python3.10/dist-packages (from langchain) (3.7.1)\n",
            "Requirement already satisfied: async-timeout<5.0.0,>=4.0.0 in /usr/local/lib/python3.10/dist-packages (from langchain) (4.0.3)\n",
            "Collecting dataclasses-json<0.7,>=0.5.7 (from langchain)\n",
            "  Downloading dataclasses_json-0.6.3-py3-none-any.whl (28 kB)\n",
            "Collecting jsonpatch<2.0,>=1.33 (from langchain)\n",
            "  Downloading jsonpatch-1.33-py2.py3-none-any.whl (12 kB)\n",
            "Collecting langchain-core<0.1,>=0.0.7 (from langchain)\n",
            "  Downloading langchain_core-0.0.7-py3-none-any.whl (177 kB)\n",
            "\u001b[2K     \u001b[90m━━━━━━━━━━━━━━━━━━━━━━━━━━━━━━━━━━━━━━━━\u001b[0m \u001b[32m177.5/177.5 kB\u001b[0m \u001b[31m12.2 MB/s\u001b[0m eta \u001b[36m0:00:00\u001b[0m\n",
            "\u001b[?25hCollecting langsmith<0.1.0,>=0.0.63 (from langchain)\n",
            "  Downloading langsmith-0.0.67-py3-none-any.whl (47 kB)\n",
            "\u001b[2K     \u001b[90m━━━━━━━━━━━━━━━━━━━━━━━━━━━━━━━━━━━━━━━━\u001b[0m \u001b[32m47.0/47.0 kB\u001b[0m \u001b[31m4.0 MB/s\u001b[0m eta \u001b[36m0:00:00\u001b[0m\n",
            "\u001b[?25hRequirement already satisfied: numpy<2,>=1 in /usr/local/lib/python3.10/dist-packages (from langchain) (1.23.5)\n",
            "Requirement already satisfied: pydantic<3,>=1 in /usr/local/lib/python3.10/dist-packages (from langchain) (1.10.13)\n",
            "Requirement already satisfied: requests<3,>=2 in /usr/local/lib/python3.10/dist-packages (from langchain) (2.31.0)\n",
            "Requirement already satisfied: tenacity<9.0.0,>=8.1.0 in /usr/local/lib/python3.10/dist-packages (from langchain) (8.2.3)\n",
            "Requirement already satisfied: attrs>=17.3.0 in /usr/local/lib/python3.10/dist-packages (from aiohttp<4.0.0,>=3.8.3->langchain) (23.1.0)\n",
            "Requirement already satisfied: charset-normalizer<4.0,>=2.0 in /usr/local/lib/python3.10/dist-packages (from aiohttp<4.0.0,>=3.8.3->langchain) (3.3.2)\n",
            "Requirement already satisfied: multidict<7.0,>=4.5 in /usr/local/lib/python3.10/dist-packages (from aiohttp<4.0.0,>=3.8.3->langchain) (6.0.4)\n",
            "Requirement already satisfied: yarl<2.0,>=1.0 in /usr/local/lib/python3.10/dist-packages (from aiohttp<4.0.0,>=3.8.3->langchain) (1.9.2)\n",
            "Requirement already satisfied: frozenlist>=1.1.1 in /usr/local/lib/python3.10/dist-packages (from aiohttp<4.0.0,>=3.8.3->langchain) (1.4.0)\n",
            "Requirement already satisfied: aiosignal>=1.1.2 in /usr/local/lib/python3.10/dist-packages (from aiohttp<4.0.0,>=3.8.3->langchain) (1.3.1)\n",
            "Requirement already satisfied: idna>=2.8 in /usr/local/lib/python3.10/dist-packages (from anyio<4.0->langchain) (3.4)\n",
            "Requirement already satisfied: sniffio>=1.1 in /usr/local/lib/python3.10/dist-packages (from anyio<4.0->langchain) (1.3.0)\n",
            "Requirement already satisfied: exceptiongroup in /usr/local/lib/python3.10/dist-packages (from anyio<4.0->langchain) (1.1.3)\n",
            "Requirement already satisfied: marshmallow<4.0.0,>=3.18.0 in /usr/local/lib/python3.10/dist-packages (from dataclasses-json<0.7,>=0.5.7->langchain) (3.20.1)\n",
            "Collecting typing-inspect<1,>=0.4.0 (from dataclasses-json<0.7,>=0.5.7->langchain)\n",
            "  Downloading typing_inspect-0.9.0-py3-none-any.whl (8.8 kB)\n",
            "Collecting jsonpointer>=1.9 (from jsonpatch<2.0,>=1.33->langchain)\n",
            "  Downloading jsonpointer-2.4-py2.py3-none-any.whl (7.8 kB)\n",
            "Requirement already satisfied: typing-extensions>=4.2.0 in /usr/local/lib/python3.10/dist-packages (from pydantic<3,>=1->langchain) (4.5.0)\n",
            "Requirement already satisfied: urllib3<3,>=1.21.1 in /usr/local/lib/python3.10/dist-packages (from requests<3,>=2->langchain) (2.0.7)\n",
            "Requirement already satisfied: certifi>=2017.4.17 in /usr/local/lib/python3.10/dist-packages (from requests<3,>=2->langchain) (2023.7.22)\n",
            "Requirement already satisfied: greenlet!=0.4.17 in /usr/local/lib/python3.10/dist-packages (from SQLAlchemy<3,>=1.4->langchain) (3.0.1)\n",
            "Requirement already satisfied: packaging>=17.0 in /usr/local/lib/python3.10/dist-packages (from marshmallow<4.0.0,>=3.18.0->dataclasses-json<0.7,>=0.5.7->langchain) (23.2)\n",
            "Collecting mypy-extensions>=0.3.0 (from typing-inspect<1,>=0.4.0->dataclasses-json<0.7,>=0.5.7->langchain)\n",
            "  Downloading mypy_extensions-1.0.0-py3-none-any.whl (4.7 kB)\n",
            "Installing collected packages: mypy-extensions, jsonpointer, typing-inspect, langsmith, jsonpatch, langchain-core, dataclasses-json, langchain\n",
            "Successfully installed dataclasses-json-0.6.3 jsonpatch-1.33 jsonpointer-2.4 langchain-0.0.342 langchain-core-0.0.7 langsmith-0.0.67 mypy-extensions-1.0.0 typing-inspect-0.9.0\n"
          ]
        }
      ]
    },
    {
      "cell_type": "code",
      "source": [
        "!pip install pypdf"
      ],
      "metadata": {
        "colab": {
          "base_uri": "https://localhost:8080/"
        },
        "id": "v3RrR_Z7NRZ6",
        "outputId": "0ee2f08e-84c8-492b-b604-1b574e8f95ed"
      },
      "execution_count": null,
      "outputs": [
        {
          "output_type": "stream",
          "name": "stdout",
          "text": [
            "Collecting pypdf\n",
            "  Downloading pypdf-3.17.1-py3-none-any.whl (277 kB)\n",
            "\u001b[2K     \u001b[90m━━━━━━━━━━━━━━━━━━━━━━━━━━━━━━━━━━━━━━━━\u001b[0m \u001b[32m277.6/277.6 kB\u001b[0m \u001b[31m3.7 MB/s\u001b[0m eta \u001b[36m0:00:00\u001b[0m\n",
            "\u001b[?25hInstalling collected packages: pypdf\n",
            "Successfully installed pypdf-3.17.1\n"
          ]
        }
      ]
    },
    {
      "cell_type": "code",
      "source": [
        "!pip install sentence-transformers"
      ],
      "metadata": {
        "colab": {
          "base_uri": "https://localhost:8080/"
        },
        "id": "CLu6cAMNNUe4",
        "outputId": "cd77ae43-c7fa-4b52-8dde-f6ece0177da0"
      },
      "execution_count": null,
      "outputs": [
        {
          "output_type": "stream",
          "name": "stdout",
          "text": [
            "Collecting sentence-transformers\n",
            "  Downloading sentence-transformers-2.2.2.tar.gz (85 kB)\n",
            "\u001b[?25l     \u001b[90m━━━━━━━━━━━━━━━━━━━━━━━━━━━━━━━━━━━━━━━━\u001b[0m \u001b[32m0.0/86.0 kB\u001b[0m \u001b[31m?\u001b[0m eta \u001b[36m-:--:--\u001b[0m\r\u001b[2K     \u001b[91m━━━━━━━━━━━━━━━━━━━━━━━━━━━━━━━━━━━━━━\u001b[0m\u001b[90m╺\u001b[0m\u001b[90m━\u001b[0m \u001b[32m81.9/86.0 kB\u001b[0m \u001b[31m3.1 MB/s\u001b[0m eta \u001b[36m0:00:01\u001b[0m\r\u001b[2K     \u001b[90m━━━━━━━━━━━━━━━━━━━━━━━━━━━━━━━━━━━━━━━━\u001b[0m \u001b[32m86.0/86.0 kB\u001b[0m \u001b[31m2.3 MB/s\u001b[0m eta \u001b[36m0:00:00\u001b[0m\n",
            "\u001b[?25h  Preparing metadata (setup.py) ... \u001b[?25l\u001b[?25hdone\n",
            "Requirement already satisfied: transformers<5.0.0,>=4.6.0 in /usr/local/lib/python3.10/dist-packages (from sentence-transformers) (4.35.2)\n",
            "Requirement already satisfied: tqdm in /usr/local/lib/python3.10/dist-packages (from sentence-transformers) (4.66.1)\n",
            "Requirement already satisfied: torch>=1.6.0 in /usr/local/lib/python3.10/dist-packages (from sentence-transformers) (2.1.0+cu118)\n",
            "Requirement already satisfied: torchvision in /usr/local/lib/python3.10/dist-packages (from sentence-transformers) (0.16.0+cu118)\n",
            "Requirement already satisfied: numpy in /usr/local/lib/python3.10/dist-packages (from sentence-transformers) (1.23.5)\n",
            "Requirement already satisfied: scikit-learn in /usr/local/lib/python3.10/dist-packages (from sentence-transformers) (1.2.2)\n",
            "Requirement already satisfied: scipy in /usr/local/lib/python3.10/dist-packages (from sentence-transformers) (1.11.3)\n",
            "Requirement already satisfied: nltk in /usr/local/lib/python3.10/dist-packages (from sentence-transformers) (3.8.1)\n",
            "Collecting sentencepiece (from sentence-transformers)\n",
            "  Downloading sentencepiece-0.1.99-cp310-cp310-manylinux_2_17_x86_64.manylinux2014_x86_64.whl (1.3 MB)\n",
            "\u001b[2K     \u001b[90m━━━━━━━━━━━━━━━━━━━━━━━━━━━━━━━━━━━━━━━━\u001b[0m \u001b[32m1.3/1.3 MB\u001b[0m \u001b[31m10.8 MB/s\u001b[0m eta \u001b[36m0:00:00\u001b[0m\n",
            "\u001b[?25hRequirement already satisfied: huggingface-hub>=0.4.0 in /usr/local/lib/python3.10/dist-packages (from sentence-transformers) (0.19.4)\n",
            "Requirement already satisfied: filelock in /usr/local/lib/python3.10/dist-packages (from huggingface-hub>=0.4.0->sentence-transformers) (3.13.1)\n",
            "Requirement already satisfied: fsspec>=2023.5.0 in /usr/local/lib/python3.10/dist-packages (from huggingface-hub>=0.4.0->sentence-transformers) (2023.6.0)\n",
            "Requirement already satisfied: requests in /usr/local/lib/python3.10/dist-packages (from huggingface-hub>=0.4.0->sentence-transformers) (2.31.0)\n",
            "Requirement already satisfied: pyyaml>=5.1 in /usr/local/lib/python3.10/dist-packages (from huggingface-hub>=0.4.0->sentence-transformers) (6.0.1)\n",
            "Requirement already satisfied: typing-extensions>=3.7.4.3 in /usr/local/lib/python3.10/dist-packages (from huggingface-hub>=0.4.0->sentence-transformers) (4.5.0)\n",
            "Requirement already satisfied: packaging>=20.9 in /usr/local/lib/python3.10/dist-packages (from huggingface-hub>=0.4.0->sentence-transformers) (23.2)\n",
            "Requirement already satisfied: sympy in /usr/local/lib/python3.10/dist-packages (from torch>=1.6.0->sentence-transformers) (1.12)\n",
            "Requirement already satisfied: networkx in /usr/local/lib/python3.10/dist-packages (from torch>=1.6.0->sentence-transformers) (3.2.1)\n",
            "Requirement already satisfied: jinja2 in /usr/local/lib/python3.10/dist-packages (from torch>=1.6.0->sentence-transformers) (3.1.2)\n",
            "Requirement already satisfied: triton==2.1.0 in /usr/local/lib/python3.10/dist-packages (from torch>=1.6.0->sentence-transformers) (2.1.0)\n",
            "Requirement already satisfied: regex!=2019.12.17 in /usr/local/lib/python3.10/dist-packages (from transformers<5.0.0,>=4.6.0->sentence-transformers) (2023.6.3)\n",
            "Requirement already satisfied: tokenizers<0.19,>=0.14 in /usr/local/lib/python3.10/dist-packages (from transformers<5.0.0,>=4.6.0->sentence-transformers) (0.15.0)\n",
            "Requirement already satisfied: safetensors>=0.3.1 in /usr/local/lib/python3.10/dist-packages (from transformers<5.0.0,>=4.6.0->sentence-transformers) (0.4.0)\n",
            "Requirement already satisfied: click in /usr/local/lib/python3.10/dist-packages (from nltk->sentence-transformers) (8.1.7)\n",
            "Requirement already satisfied: joblib in /usr/local/lib/python3.10/dist-packages (from nltk->sentence-transformers) (1.3.2)\n",
            "Requirement already satisfied: threadpoolctl>=2.0.0 in /usr/local/lib/python3.10/dist-packages (from scikit-learn->sentence-transformers) (3.2.0)\n",
            "Requirement already satisfied: pillow!=8.3.*,>=5.3.0 in /usr/local/lib/python3.10/dist-packages (from torchvision->sentence-transformers) (9.4.0)\n",
            "Requirement already satisfied: MarkupSafe>=2.0 in /usr/local/lib/python3.10/dist-packages (from jinja2->torch>=1.6.0->sentence-transformers) (2.1.3)\n",
            "Requirement already satisfied: charset-normalizer<4,>=2 in /usr/local/lib/python3.10/dist-packages (from requests->huggingface-hub>=0.4.0->sentence-transformers) (3.3.2)\n",
            "Requirement already satisfied: idna<4,>=2.5 in /usr/local/lib/python3.10/dist-packages (from requests->huggingface-hub>=0.4.0->sentence-transformers) (3.4)\n",
            "Requirement already satisfied: urllib3<3,>=1.21.1 in /usr/local/lib/python3.10/dist-packages (from requests->huggingface-hub>=0.4.0->sentence-transformers) (2.0.7)\n",
            "Requirement already satisfied: certifi>=2017.4.17 in /usr/local/lib/python3.10/dist-packages (from requests->huggingface-hub>=0.4.0->sentence-transformers) (2023.7.22)\n",
            "Requirement already satisfied: mpmath>=0.19 in /usr/local/lib/python3.10/dist-packages (from sympy->torch>=1.6.0->sentence-transformers) (1.3.0)\n",
            "Building wheels for collected packages: sentence-transformers\n",
            "  Building wheel for sentence-transformers (setup.py) ... \u001b[?25l\u001b[?25hdone\n",
            "  Created wheel for sentence-transformers: filename=sentence_transformers-2.2.2-py3-none-any.whl size=125923 sha256=0dff390bcf5d256c9708389cc1403a1027a1b056cfce54d9449948122c29593d\n",
            "  Stored in directory: /root/.cache/pip/wheels/62/f2/10/1e606fd5f02395388f74e7462910fe851042f97238cbbd902f\n",
            "Successfully built sentence-transformers\n",
            "Installing collected packages: sentencepiece, sentence-transformers\n",
            "Successfully installed sentence-transformers-2.2.2 sentencepiece-0.1.99\n"
          ]
        }
      ]
    },
    {
      "cell_type": "code",
      "source": [
        "!pip install pandas"
      ],
      "metadata": {
        "colab": {
          "base_uri": "https://localhost:8080/"
        },
        "id": "wY1Bvwzrm9vT",
        "outputId": "833b0cc3-7a6b-4ffb-df62-bb85cc548b31"
      },
      "execution_count": null,
      "outputs": [
        {
          "output_type": "stream",
          "name": "stdout",
          "text": [
            "Requirement already satisfied: pandas in /usr/local/lib/python3.10/dist-packages (1.5.3)\n",
            "Requirement already satisfied: python-dateutil>=2.8.1 in /usr/local/lib/python3.10/dist-packages (from pandas) (2.8.2)\n",
            "Requirement already satisfied: pytz>=2020.1 in /usr/local/lib/python3.10/dist-packages (from pandas) (2023.3.post1)\n",
            "Requirement already satisfied: numpy>=1.21.0 in /usr/local/lib/python3.10/dist-packages (from pandas) (1.23.5)\n",
            "Requirement already satisfied: six>=1.5 in /usr/local/lib/python3.10/dist-packages (from python-dateutil>=2.8.1->pandas) (1.16.0)\n"
          ]
        }
      ]
    },
    {
      "cell_type": "code",
      "source": [
        "import pandas as pd\n",
        "df = pd.read_csv(\"Referral_Ins_Mapping_List - Sheet4.csv\")\n",
        "insurance_dict = {}\n",
        "docs = []\n",
        "for row, column in df.iterrows():\n",
        "  insurance_dict[str(column['Insurance Name']) + \" \" + str(column['Plan Name'])] = str(column[\n",
        "                'Expected Insurance'])\n",
        "  insurance_dict[str(column['Insurance Name'])] = str(column['Expected Insurance'])\n",
        "  docs.append(str(column['Insurance Name']) + \" \" + str(column['Plan Name']))\n",
        "  docs.append(str(column['Insurance Name']))\n",
        "print(insurance_dict)\n",
        "print('----------------------------')\n",
        "print(docs)"
      ],
      "metadata": {
        "colab": {
          "base_uri": "https://localhost:8080/"
        },
        "id": "Jf0hwvcDnemg",
        "outputId": "8f21b472-de1b-4415-8dae-6244ae1cfb1c"
      },
      "execution_count": null,
      "outputs": [
        {
          "output_type": "stream",
          "name": "stdout",
          "text": [
            "{'BCBSIL Blue Choice Preferred': 'BLUE CROSS BLUE SHIELD', 'BCBSIL': 'BLUE CROSS BLUE SHIELD', 'BCBSIL BLUEADVANTAGE HMO MEDICAL': 'AMITA ST. MARYS & ELIZABETH HMO', 'BCBSIL BLUE CARD PPO MED/SURG': 'BLUE CROSS BLUE SHIELD', 'BCBSIL BC PPO INCENTIVE': 'BLUE CROSS BLUE SHIELD', 'BCBSIL CDHP VIRGINIA HEALTH SAVINGS ACCOUNT': 'BLUE CROSS BLUE SHIELD', 'BCBSIL Blue Options': 'BLUE CROSS BLUE SHIELD', 'BCBSIL Ford FMP PPO HSA - Family, Hearing': 'BLUE CROSS BLUE SHIELD', 'BCBSIL EXCLUSIVE PROVIDER ORGANIZATION MEDICAL': 'BLUE CROSS BLUE SHIELD', 'BCBSIL PREFERRED PROVIDER OPTION PLUS MEDICAL': 'BLUE CROSS BLUE SHIELD', 'BCBSIL PPO Standard Plan, Rx1, Hearing, Dental': 'BLUE CROSS BLUE SHIELD', 'BCBSIL PPO PROGRAM NON FLEX MED/SURG 2001': 'BLUE CROSS BLUE SHIELD', 'BCBSIL PPO DENTAL': 'BLUE CROSS BLUE SHIELD', 'BCBSIL OH PPO/EPO BLUE ACCESS LOCAL/NATL': 'BLUE CROSS BLUE SHIELD', 'HUMANA HUM Com HMO Diab/Hrt': 'HUMANA HMO SELECT', 'HUMANA': 'HUMANA GOLD PLUS', 'HUMANA HumanaChoice': 'HUMANA MEDICARE PPO', 'CMS Humana Medicare Employer': 'HUMANA MEDICARE PPO', 'CMS': 'Medicare', 'HUMANA Humana Gold Plus': 'HUMANA GOLD PLUS', 'UNITEDHEALTHCARE (87726) UnitedHealthcare Core': 'United Healthcare Core', 'UNITEDHEALTHCARE (87726)': 'UnitedHealthcare Medicare Chronic Complete Assure (Ppo)', 'Aetna Better Health of Illinois Aetna Better Health of Illinois': 'AETNA BETTER HEALTH OF ILLINOIS', 'Aetna Better Health of Illinois': 'AETNA BETTER HEALTH OF ILLINOIS', 'BLUE CROSS COMMUNITY HEALTH PLANS Blue Cross Community ICP': 'Blue Cross Community FHP/ICP', 'BLUE CROSS COMMUNITY HEALTH PLANS': 'Blue Cross Community FHP/ICP', 'BLUE CROSS COMMUNITY HEALTH PLANS Blue Cross Community MMAI (Medicare-Medicaid Plan)': 'Blue Cross Community MMAI', 'BLUE CROSS COMMUNITY HEALTH PLANS Blue Cross Community Family Health Plan': 'Blue Cross Community FHP/ICP', 'UNITEDHEALTHCARE (87726) Lppo-UnitedHealthcare Chronic Complete Assure (Ppo': 'UnitedHealthcare Medicare Chronic Complete Assure (Ppo)', 'CMS SilverScript Choice': 'Medicare', 'AETNA INC Open Access Aetna Select': 'AETNA Open Access', 'AETNA INC': 'Aetna Choice POS', 'WELLCARE HEALTH PLANS No Premium Exclusive (HMO) (H5779007000)': 'Wellcare HMO', 'WELLCARE HEALTH PLANS': 'Wellcare HMO', 'WELLCARE HEALTH PLANS No Premium (HMO-POS) (H1416009000)': 'Wellcare HMO', 'Lppo-AARP Medicare Advantage Choice (Ppo) Lppo-AARP Medicare Advantage Choice (Ppo)': 'AARP MEDICARE ADVANTAGE PPO', 'Lppo-AARP Medicare Advantage Choice (Ppo)': 'AARP MEDICARE ADVANTAGE PPO', 'AETNA INC Aetna Choice POS II': 'Aetna Choice POS'}\n",
            "----------------------------\n",
            "['BCBSIL Blue Choice Preferred', 'BCBSIL', 'BCBSIL BLUEADVANTAGE HMO MEDICAL', 'BCBSIL', 'BCBSIL BLUE CARD PPO MED/SURG', 'BCBSIL', 'BCBSIL BC PPO INCENTIVE', 'BCBSIL', 'BCBSIL CDHP VIRGINIA HEALTH SAVINGS ACCOUNT', 'BCBSIL', 'BCBSIL Blue Options', 'BCBSIL', 'BCBSIL Ford FMP PPO HSA - Family, Hearing', 'BCBSIL', 'BCBSIL EXCLUSIVE PROVIDER ORGANIZATION MEDICAL', 'BCBSIL', 'BCBSIL PREFERRED PROVIDER OPTION PLUS MEDICAL', 'BCBSIL', 'BCBSIL PPO Standard Plan, Rx1, Hearing, Dental', 'BCBSIL', 'BCBSIL PPO PROGRAM NON FLEX MED/SURG 2001', 'BCBSIL', 'BCBSIL PPO DENTAL', 'BCBSIL', 'BCBSIL OH PPO/EPO BLUE ACCESS LOCAL/NATL', 'BCBSIL', 'BCBSIL PREFERRED PROVIDER OPTION PLUS MEDICAL', 'BCBSIL', 'HUMANA HUM Com HMO Diab/Hrt', 'HUMANA', 'HUMANA HumanaChoice', 'HUMANA', 'CMS Humana Medicare Employer', 'CMS', 'HUMANA Humana Gold Plus', 'HUMANA', 'UNITEDHEALTHCARE (87726) UnitedHealthcare Core', 'UNITEDHEALTHCARE (87726)', 'Aetna Better Health of Illinois Aetna Better Health of Illinois', 'Aetna Better Health of Illinois', 'BLUE CROSS COMMUNITY HEALTH PLANS Blue Cross Community ICP', 'BLUE CROSS COMMUNITY HEALTH PLANS', 'BLUE CROSS COMMUNITY HEALTH PLANS Blue Cross Community MMAI (Medicare-Medicaid Plan)', 'BLUE CROSS COMMUNITY HEALTH PLANS', 'BLUE CROSS COMMUNITY HEALTH PLANS Blue Cross Community ICP', 'BLUE CROSS COMMUNITY HEALTH PLANS', 'BLUE CROSS COMMUNITY HEALTH PLANS Blue Cross Community Family Health Plan', 'BLUE CROSS COMMUNITY HEALTH PLANS', 'UNITEDHEALTHCARE (87726) Lppo-UnitedHealthcare Chronic Complete Assure (Ppo', 'UNITEDHEALTHCARE (87726)', 'CMS SilverScript Choice', 'CMS', 'AETNA INC Open Access Aetna Select', 'AETNA INC', 'WELLCARE HEALTH PLANS No Premium Exclusive (HMO) (H5779007000)', 'WELLCARE HEALTH PLANS', 'WELLCARE HEALTH PLANS No Premium (HMO-POS) (H1416009000)', 'WELLCARE HEALTH PLANS', 'Lppo-AARP Medicare Advantage Choice (Ppo) Lppo-AARP Medicare Advantage Choice (Ppo)', 'Lppo-AARP Medicare Advantage Choice (Ppo)', 'AETNA INC Aetna Choice POS II', 'AETNA INC']\n"
          ]
        }
      ]
    },
    {
      "cell_type": "code",
      "source": [
        "from langchain.embeddings import HuggingFaceEmbeddings\n",
        "from langchain.document_loaders import PyPDFLoader\n",
        "from langchain.text_splitter import RecursiveCharacterTextSplitter\n",
        "import os\n",
        "\n",
        "from langchain.document_loaders import TextLoader\n",
        "from langchain.embeddings.openai import OpenAIEmbeddings\n",
        "from langchain.text_splitter import CharacterTextSplitter\n",
        "from langchain.vectorstores import Milvus\n",
        "\n",
        "loader = PyPDFLoader(\"ECWInsuranceNameList2.pdf\")\n",
        "data = loader.load()\n",
        "text_splitter = RecursiveCharacterTextSplitter(separators=[\"\\\\n\", \"\\n\\n\"], chunk_size=10000, chunk_overlap=0)\n",
        "docs = text_splitter.split_documents(data)\n",
        "split_output = []\n",
        "for document in data:\n",
        "  print(document)\n",
        "  lines = document.page_content.split('\\n')\n",
        "  for line in lines:\n",
        "    split_output.append(line)\n",
        "    # text_splitter = RecursiveCharacterTextSplitter(chunk_size=500, chunk_overlap=0)\n",
        "    # docs = text_splitter.split_documents(data)\n",
        "os.environ[\"HUGGINGFACEHUB_API_TOKEN\"] = \"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\"\n",
        "embeddings = HuggingFaceEmbeddings(model_name='sentence-transformers/all-MiniLM-L6-v2')"
      ],
      "metadata": {
        "colab": {
          "base_uri": "https://localhost:8080/"
        },
        "id": "hq-c6sO9NeBj",
        "outputId": "17cbf077-fab5-4cc6-f24f-95d4a25b9829"
      },
      "execution_count": null,
      "outputs": [
        {
          "output_type": "stream",
          "name": "stdout",
          "text": [
            "page_content='Name\\nAARP HEALTH CARE OPTIONS\\nAARP Health Care Options Facility\\nAARP MEDICARE ADVANTAGE PPO\\nAARP MEDICARE COMPLETE Facility\\nAARP MEDICARE HMO\\nAARP Medicare Supplement\\nAARP Medicare Supplement Facility\\nAccess Community Harmony\\nACCESS COMMUNITY HEALTH NETWORK\\nACM\\nAcuity Group of Mississippi, LLC\\nAdministrative Concepts Inc\\nAdministrative Concepts, Inc\\nAdministrative Concepts, Inc Facility\\nAdministrative District Council 1\\nADVOCATE AETNA MEDICARE ADVANTAGE\\nAdvocate Blue Advantage HMO\\nADVOCATE BLUE CARE DIRECT\\nADVOCATE Health Partners\\nADVOCATE ILLINOIS MASONIC PHY PART\\nADVOCATE Physician PARTNERS\\nADVOCATE TRINITY HMO\\nAetna\\nAetna\\nAETNA MEDICARE PPO\\nAETNA BETTER HEALTH INC MMAI/MMP\\nAETNA Better Health MMAI MMP Facility' metadata={'source': 'ECWInsuranceNameList2.pdf', 'page': 0}\n",
            "page_content='AETNA BETTER HEALTH OF ILLINOIS\\nAetna Choice POS\\nAetna Choice POS Facllity\\nAetna Facility\\nAETNA GLOBAL PPO\\nAETNA HMO\\nAETNA MEDICARE HMO\\nAetna Medicare PPO\\nAETNA MEDICARE PPO\\nAetna Medicare PPO Facility\\nAetna National Advantage Plan\\nAetna National Advantage Plan Facility\\nAETNA Open Access\\nAetna Open Access Facility\\nAetna Open Access Managed Care\\nAetna Open Access Managed Choice Facility\\nAetna Open Choice PPO\\nAetna POS\\nAetna POS\\nAETNA POS Facility\\nAETNA PPO\\nAetna PPO Facility\\nAETNA PPO Facility\\nAETNA SELECT OPEN ACCESS\\nAETNA SELECT OPEN ACCESS Facility\\nAetna Senior Supplemental Insurance\\nAetna Student Services' metadata={'source': 'ECWInsuranceNameList2.pdf', 'page': 1}\n",
            "page_content='Alicare\\nAll Savers Ins Facility\\nAll Savers Insurance\\nAll Savers Insurance Facility\\nAllianz Global Assistance\\nAllied Benefit Systems Inc\\nAllied Benefit Systems Inc Facility\\nALLIED BENEFITS SYSTEM\\nALLIED BENEFITS SYSTEM Facility\\nALLIED BENEFITS SYSTEMS\\nAllied National Benefits\\nAllways Health Partners\\nAMA Insurance\\nAMA Insurance Agency Inc\\nAMBETTER\\nAmeri Health Caritas VIP Care Plus\\nAmeriben\\nAmerican Apparel\\nAmerican Apparel Facility\\nAmerican Health Resources Facility\\nAmerican Health Resources, Inc\\nAmerican Medical and Life Insurance\\nAMERICAN POSTAL WORKERS UNION APWU\\nAmerican Public Life Ins Facility\\nAmerican Public Life Insurance Company\\nAmerican Worker\\nAmerican Worker Facility' metadata={'source': 'ECWInsuranceNameList2.pdf', 'page': 2}\n",
            "page_content='Amerigroup of Indiana\\nAMITA Health Solutions - BCBS MA Amita\\nAmita Resurrection Medical Center\\nAMITA ST JOSEPH HEALTH\\nAMITA ST. MARYS & ELIZABETH HMO\\nAmita/BCBS Pre-fix -YLI or IOQ\\nANTHEM BLUE CROSS\\nApex\\nAPOGEE HEALTH PARTNERS\\nAPWU Health Plan Facility\\nArcadia-BCBS Plan\\nArcadia-Humana Plan\\nArkansas Blue Cross and Blue Shield\\nAscension Complete\\nASCENSION COMPLETE ILLINOIS MEDICARE\\nASCENSION ILLINOIS PPO\\nASCENSION ILLINOIS PPO Facility\\nAscension Smart Health Facility\\nASH\\nASR Health Benefit\\nASR HEALTH BENEFIT Facility\\nASRM\\nAssurant Health Facility\\nASSURANT HEALTH/ASA\\nAuxiant - First Health Network\\nAUXIANT PPO\\nAUXIANT PPO Facility' metadata={'source': 'ECWInsuranceNameList2.pdf', 'page': 3}\n",
            "page_content='AXA EQUITABLE\\nBakery and Confectionery union\\nBakery Drivers Local 734\\nBANKERS FIDELITY\\nBankers Life and Casualty\\nBAS (BENEFIT ADMINISTRATIVE SYSTEMS LL\\nBCBS AMITA CIN\\nBCBS FACILITY\\nBCBS HMO\\nBCBS HMO UNIV OF IL CHICAGO PHYS\\nBenefit Administrative Systems\\nBenefit Administrative Systems\\nBenefit Administrative Systems Facility\\nBenefit Plan Administrators Inc\\nBind Facility\\nBIND/United Health Group\\nBLUE ADVANTAGE/MERCY IPA/OP\\nBlue Choice PPO\\nBlue Choice PPO Facility\\nBLUE CROSS BLUE SHIELD\\nBlue Cross Blue Shield MI\\nBlue Cross Blue Shield MMP\\nBlue Cross Community FHP/ICP\\nBlue Cross Community FHP/ICP Facility\\nBlue Cross Community MMAI\\nBlue Cross Community-Facility\\nBlue Cross Community-Mcdil' metadata={'source': 'ECWInsuranceNameList2.pdf', 'page': 4}\n",
            "page_content='BLUE CROSS EXCHANGE-MERCY 1\\nBLUE CROSS HEALTH CHOICE\\nBLUE CROSS MEDICARE ADV PPO\\nBLUE CROSS MEDICARE ADVANTAGE\\nBLUE CROSS MEDICARE ADVANTAGE HMO\\nBlue Cross Medicare Advantage UB\\nBlue FocusCare\\nBLUE SHIELD OF PR MEDICARE ADVANTAGE\\nBLUECROSS BLUESHIELD OF SC\\nBMGI\\nBright Health HMO\\nBright Healthcare PPO\\nCAPITOL ADMINISTRATORS\\nCardinal Choice\\nCare First BCBS\\nCATAMARAN\\nCELTIC INSURANCE COMPANY\\nCELTIC INSURANCE COMPANY Facility\\nCENPATICO\\ncentral ink\\nCENTRAL UNITED LIFE\\nCENTRAL UNITED LIFE INSURANCE\\nCENTURY HEALTHCARE\\nCentury Healthcare Facility\\nCENTURY PHO\\nCENTURY PHO (HUMANA)\\nCertificed Services, Inc.' metadata={'source': 'ECWInsuranceNameList2.pdf', 'page': 5}\n",
            "page_content='CHAMP VA- JESSE BROWN\\nChesterfield Resources. Inc\\nCHICAGO HEALTH SYSTEM\\nCHRISTIAN BROTHER SERVICES\\nChristian Brothers Jesuit Trust\\nCHRISTIAN HEALTHCARE MINISTRY\\nCigna\\nCIGNA\\nCIGNA OPEN ACCESS PLUS\\nCigna Connecticut General Life Ins\\nCIGNA Facility\\nCigna Facility\\nCigna Health Springs Advocate Group\\nCIGNA HEALTHCARE\\nCIGNA HEALTHSPRING\\nCIGNA HEALTHSPRING Facility\\nCIGNA HEALTHSPRING MMAI\\nCIGNA HMO\\nCIGNA HMO CONNECT\\nCIGNA HS True Choice Plus MC PPO\\nCigna International\\nCigna International Facility\\nCIGNA MEDICARE HMO\\nCigna Medicare Supplement Facility\\nCigna Medicare Supplement Insurance\\nCIGNA MEDICARE SUPPLEMENT SOLUTIONS\\nCigna One Health' metadata={'source': 'ECWInsuranceNameList2.pdf', 'page': 6}\n",
            "page_content='Cigna Open Access Facility\\nCIGNA Open Access plus\\nCIGNA Open Access Plus Facility\\nCIGNA PPO\\nCigna-HealthSpring Preferred (HMO)\\nClaims Administration Facility\\nCLAIMSBRIDGE\\nClear Spring Health\\nClear Spring Health\\nCo-ordinated benefit plans Facility\\nCo-ordinated benefit plans, LLC\\nCo-ordinated benefit plans, LLC\\nCofinity\\nCOLONIAL PENN LIFE INSURANCE COMPANY\\nCOMBINED INSURANCE\\nCommercial Travelers\\nCommercial Travelers Facility\\nCOMMUNITY CARE ALLIANCE IL 2020\\nCOMMUNITY CARE ALLIANCE OF IL 2019\\nCommunity Care NFP MCR for 2019\\nCOMMUNITY HEALTH CHOICE,INC\\nCompanion Life\\nCOMPANION LIFE INS CO Facility\\nCOMPANION LIFE INS COMPANY\\nCOMPANION LIFE WEB-TPA\\nComprehensive Benefits\\nconnect your care llc' metadata={'source': 'ECWInsuranceNameList2.pdf', 'page': 7}\n",
            "page_content=\"Consolidated Health Plan\\nConsolidated Health Plan Facility\\nCook Medical Group\\nCORESOURCE\\nCORESOURCE Facility\\nCOUNTRY LIFE INSURANCE COMPANY\\nCOUNTY CARE HEALTH PLAN\\nCounty Care Health Plan Facility\\nCOVENTRY HEALTHCARE\\nCOVENTRY HEALTHCARE Facility\\nCoventry Healthcare-Medicare\\nCoventry Healthcare-Medicare Facility\\nCOVENTRY ONE PPO NETWORK\\nCustom Design Benefits\\nCustom Design Benefits Facility\\nCypress Benefits Administrators\\nCypress Benefits Administrators Facility\\nDart Member Care\\nDart Member Care Facility\\nDevoted Health\\nDo Not Use No an Insurance Multiplan\\nDo Not Use No an Insurance MULTIPLAN\\nDo Not Use No an Insurance MULTIPLAN LTD BENEFITS\\nDON'T USE UFCW Local 1546 Facility\\nEA HEALTH\\nELAP\\nELAP Facility\" metadata={'source': 'ECWInsuranceNameList2.pdf', 'page': 8}\n",
            "page_content='Employee Plans, LLC\\nEmployee Plans, LLC Facility\\nEnvision Healthcare, Inc.\\nEquitable Life\\nFAMILY HEALTH NETWORK FHP\\nFirst Health Network\\nFIRST HEALTH NETWORK\\nFirst Health Network Facility\\nFIRST+PLUS\\nFreedom Life insurance Company PHCS\\nFreedom Life Insurance PHCS Facility\\nFringe Benefit Group\\nFringe Benefit Group (Do not Use)\\nFringe Benefit Group 2 (Do Not Use)\\nFringe Benefit Group Facility\\nFULTON TROIKA LLC\\nGEHA\\nGEHA Facility\\nGeisinger choice\\nGeisinger Choice Facility\\nGEISINGER HEALTH GROUP\\nGHI\\nGHI Facility\\nGLOBAL CARE, INC.\\nGlobal Excel Aetna\\nGLOBAL EXCEL MANAGEMENT\\nGMMI, INC' metadata={'source': 'ECWInsuranceNameList2.pdf', 'page': 9}\n",
            "page_content='GMP-Employers Retiree Trust\\nGolden Rule\\nGolden Rule Facility\\nGolden Rule United Health One\\nGOTTLIEB WEST TOWNS PHO PART OF LOYOLA\\nGOUP\\nGOUP Facility\\nGPA\\nGPA Facility\\nGPM Health and Life\\nGroup & Pension Administrator Facility\\nGROUP & PENSION ADMINISTRATORS, INC.\\nGROUP ADMINISTRATORS\\nGroup Administrators Facility\\nGROUP HEALTH COOPERATIVE MADISON WI\\nGWH CIGNA\\nGWH Cigna\\nGWH Cigna\\nGWH Cigna Facility\\nGWH Cigna Facility\\nGWH CIGNA Facility\\nHARKEN HEALTH\\nHarken Health Facility\\nHarmony Health Facility\\nHarmony Health Plan of Illinois\\nHartford Life Insurance\\nhawaii mainland administrators -multiplan' metadata={'source': 'ECWInsuranceNameList2.pdf', 'page': 10}\n",
            "page_content='HCC Medical Insurance Services\\nHealth Alliance Plan of Michigan\\nHealth Partners Claims\\nHealth Partners Plan\\nHealth Plan of Nevada\\nHEALTH PLUS PHYSICIANS ORGANIZATION\\nHealth Smart Benefit Solutions Facility\\nHealth Smart Benefits Solutions\\nHEALTH SPRING\\nHEALTH SPRING ICP/MMAI\\nHealthEZ\\nHealthLink Open Access\\nHealthLink Open Access Facility\\nHealthLink, Inc\\nHealthLink, Inc Facility\\nHealthPartners Claims\\nHealthPartners Claims Facility\\nHealthPlan Services\\nHealthPlan Services Facility\\nHealthSmart\\nHealthSmart Facility\\nHFN INC\\nHFN INC Facility\\nHIGHMARK FREEDOM BLUE PPO\\nHLTH PLUS PHYS ORG\\nHMA\\nHMA, LLC' metadata={'source': 'ECWInsuranceNameList2.pdf', 'page': 11}\n",
            "page_content='HMA, LLC Facility\\nHORIZON BCBSNJ\\nHORIZON BCBSNJ Facility\\nHORIZON HOSPICE\\nHUMANA Facility\\nHUMANA GOLD PLUS\\nHumana Gold Plus Facility\\nHumana Gold Plus Integrated\\nHUMANA GOLD PUERTO RICO\\nHumana HMO Premier Open Access\\nHUMANA HMO SELECT\\nHumana MC HMO MMAI\\nHumana Medicare Facility\\nHUMANA MEDICARE HMO\\nHUMANA MEDICARE PPO\\nHumana PPO CHOICEPOS\\nHUMANA SUPPLEMENTAL\\nHumboldt Park Health Partners\\nIBEW 9 FUND OFFICE\\nIL MEDICAID\\nIL MEDICAID FACILITY\\nIL MEDICAID Facility\\nIllinicare Facility\\nILLINICARE HEALTH PLAN\\nILLINICARE HEALTH PLAN ICP/FHP/LTSS\\nILLINICARE HEALTH PLAN MMAI PRI\\nILLINICARE HEALTH PLAN MMAI SEC' metadata={'source': 'ECWInsuranceNameList2.pdf', 'page': 12}\n",
            "page_content='Illinois Health Plan - Dupage Medical Group\\nImagine Health\\nImagine Health Gold PPO\\nIndependence American Insurance Co.\\nINDEPENDENT PHYSICIANS AT MERCY\\nIndependent Physicians at Mercy\\nINDEPENDENT PHYSICIANS AT MERCY\\nInsurance Benefit System Admin Facility\\nInsurance Benefit System Adminstrators c/o Zelis\\nInsurance of Americo\\nINSURANCE TPA\\nInsurance TPA Facility\\nInternatioanl Benefits Administrator\\nInternational Benefits Administrators\\nInterstate Bankers Casualty Co.\\niSO Sisco Benefits First Health Network\\nKaiser Foundation Health Plan of the Mid-Atlantic States\\nKey Benefit Administrators, Inc\\nKEY BENEFIT ADMINISTRATORS, INC 2\\nKPIC\\nKPIC Facility\\nLaborers Welfare Fund\\nLAND OF LINCOLN HEALTH\\nLand of Lincoln Health Facility\\nLawndale Christian Health Center\\nLocal 1546 Health and wellcare funds\\nLongevity Health Plan of Illinois, INC' metadata={'source': 'ECWInsuranceNameList2.pdf', 'page': 13}\n",
            "page_content='Loomis\\nLoyola Univ Physicians FDN\\nMACNEAL HEALTH PROVIDERS, INC.\\nMaestro Health\\nMagellan Complete Care of Florida\\nMail Handlers Benefit Plan\\nManaged Care Misc Supplemental\\nMANAGED HEALTH CARE ASSOC\\nManhattanLife Assurance\\nManhattanLife Assurance Facility\\nMAPFRE LIFE INSURANCE COMPANY\\nMAPFRE LIFE INSURANCE COMPANY\\nMASS Health\\nmayo Medical\\nMCS ADVANTAGE, INC.\\nMedcost Solution/LHS-Facility\\nMEDCOST SOLUTIONS LLC/LHS\\nMedi-Cal\\nMedi-Share\\nMedi-Share Facility\\nMedica\\nMEDICADE-STATE OF TEXAS\\nMEDICAID-FLORIDA OUT OF STATE\\nMedical Mutual\\nMedical Mutual Facility\\nMedical Records\\nMEDICARE' metadata={'source': 'ECWInsuranceNameList2.pdf', 'page': 14}\n",
            "page_content='Medicare Facility\\nMEDICARE Y MUCHO MAS\\nMedicine Stop of Elgin\\nMERCER CONSUMER\\nMeridian Complete\\nMeridian Health Plan Facility\\nMERIDIAN HEALTH PLAN FHP ICP\\nMeridian Illinois Youth Program\\nMERITAIN HEALTH\\nMERITAIN HEALTH Facility\\nMeritain Health Inc\\nMeritain Health Inc Facility\\nMERITAIN HEALTH MINNEAPOLIS\\nMERITAIN HEALTH MINNEAPOLIS Facility\\nMIDWEST OPERATING ENGINEERS BEN FUND\\nMISC LIABILITY/MVA/ACCIDENT/BI/PI\\nMISC MEDICAID HMO\\nMISC MEDICARE REPLACEMENT\\nMISC NON CONTRACT\\nMMM Conecta Contigo\\nMOLINA HEALTHCARE OF ILL FHP\\nMOLINA HEALTHCARE OF ILL MMP\\nMOLINA HEALTHCARE OF ILLINOIS\\nMONEY2 FOR HEALTH\\nMoreCare\\nMsc Behavioral Health\\nMSC COMMERCIAL' metadata={'source': 'ECWInsuranceNameList2.pdf', 'page': 15}\n",
            "page_content='MSO OF PUERTO RICO\\nMUTUAL OF OMAHA INSURANCE COMPANY\\nmvp select care Inc Facility\\nMVP Select Care. Inc.\\nMyCare Chicago\\nNAPHCARE\\nNational Association of Letter Carriers\\nNational Association of Letter Facility\\nNational General and Accident Health\\nNEED INSURANCE\\nNEXTLEVEL HEALTH PARTNERS ICP/FHP\\nNIPPON LIFE INSURANCE CO\\nNippon Life Insurance Co-Facility\\nNIPPON LIFE INSURANCE CO. OF AMERICA\\nNon Self Pay\\nNorthshore HMO Medical Group\\nNORTHSHORE PHYSICIANS ASSOCIATES\\nNorwegian American Hospital\\nNY Medicaid Out Of State\\nOak Street Health\\nOneShare Health\\nOPTIMED\\nOptiMedHealth\\nOptiMedHealth Facility\\nOXFORD HEALTH Insurance\\nPAI\\nPAI Facility' metadata={'source': 'ECWInsuranceNameList2.pdf', 'page': 16}\n",
            "page_content='PALMETTO GBA\\nPan-American Life Insurance Co\\nPARTNERS IN HEALTH INC\\nPBA\\nPBA Facility\\nPCIP\\nPENDING\\nPHCS\\nPHCS Facility\\nPHILADELPHIA AMERICAN LIFE Ins Co\\nPhysician Health Association\\nPHYSICIANS BENEFITS TRUST\\nPHYSICIANS BENEFITS TRUST Facility\\nPHYSICIANS MUTUAL\\nPhysicians Plus Insurance Corporation\\nPhysicians Plus Insurance Corporation 2\\nPLANET ASSIST\\nplanned administrators,inc.\\nPLUMBERS WELFARE FUND\\nPoint Comfort Underwriters\\nPORTER COUNTY GOV EMP BEN PLAN2\\nPorter County GOVT EMP Benefit Plan\\nPORTER COUNTY GOVT EMP BENEFIT PLAN\\nPreferred Medicare Choice\\nPremier Access Corp\\nPremier Access Corp Facility\\nPRESENCE SAINT JOSEPH HEALTH PARTNERS' metadata={'source': 'ECWInsuranceNameList2.pdf', 'page': 17}\n",
            "page_content='PRINCIPAL FINANCIAL GROUP\\nPriority Health\\nPriority Health Facility\\nPROVIDENCE HEALTH PLAN OREGAN\\nProvider Partners\\nProviders Partners Health Plan\\nPSM HEALTH SMART SOLUTIONS\\nPSWA\\nRAILROAD MEDICARE\\nRailroad Medicare Facility\\nRavenwood Physician Association\\nRCC\\nRCC\\nRESURRECTION PHYS PROVIDER GROUP INC\\nriteway pharmacy\\nRXHUB\\nSAGAMORE HEALTH NETWORK\\nSAGAMORE HEALTH NETWORK Facility\\nSANA Benefits\\nSANA Benefits Facility\\nSBMA\\nSBMA Facility\\nSEC AARP HEALTH CARE OPTIONS 2\\nSec AARP MEDICARE COMPLETE\\nSec AETNA BETTER HEALTH\\nSEC BCBS\\nSec CIGNA' metadata={'source': 'ECWInsuranceNameList2.pdf', 'page': 18}\n",
            "page_content='Sec CIGNA MC REPLACEMENT\\nSEC COUNTY CARE HEALTH PLAN 2\\nSec HFN INC\\nSec Managed Care Misc Supplemental\\nSec Medicare\\nSec Medicare Facility\\nSec MSC COMMERCIAL\\nSec ST MARY OF NAZARETH PHO\\nSec State Farm\\nSec UMR\\nSec UNICARE PPO\\nSec UNITED HEALTH CARE\\nSec United of Omaha Life Ins Facility\\nSECURE HORIZONS MEDICARE HMO\\nSECURE HORIZONS MEDICARE PPO\\nSEIU HEALTH & WELFARE FUND Facility\\nSEIU HEALTH AND WELFARE FUND\\nSELECTIVE BENEFITS ADMINISTRATORS\\nSELF PAY\\nSENIOR CARE PARTNERS\\nSenior Care Partners c/o NAMM\\nSeven Corners, Inc\\nSeven Cornors\\nSHEET METAL WORKERS NATL HLTH FUND\\nSierra Health & Life Insurance\\nSinai Medical Group\\nSISCO PHCS' metadata={'source': 'ECWInsuranceNameList2.pdf', 'page': 19}\n",
            "page_content='SMART PLAN CHOICE\\nSOUTH FLORIDA COMMUNITY CARE\\nSPRAYING SYSTEM\\nSpraying Systems Facility\\nST JAMES PHO\\nST MARY OF NAZARETH PHO\\nst marys HMO\\nSt. Mary OF NAZARETH PHO Facility\\nStaff Benefits Management\\nStandard Life Accident Insurance Co\\nStarmark\\nSTARMARK Facility\\nState Farm\\nState Farm\\nSTUDENT RESOURCES\\nSTUDENT RESOURCES Facility\\nSurest\\nSurest Facility\\nSWEDISH COVENANT MANAGED CARE\\nSYMETRA SELECT BENEFITS\\nSymetra Select Benefits Facility\\nTeamCare USIN\\nTRANSAMERICA LIFE INS AND CO\\nTRANSAMERICA LIFE INSURANCE COMPANY\\nTRAVELERS\\nTRICARE EAST\\nTRICARE EAST Facility' metadata={'source': 'ECWInsuranceNameList2.pdf', 'page': 20}\n",
            "page_content='Tricare for Life\\nTRICARE NORTH REGION\\nTricare West\\nTRIPLE-S PUERTO RICO BCBS\\nTrustmark Benefits\\nTrustmark Facility\\nTrustmark SB Benefits\\nTrustmark SB Benefits Facility\\nTUFTS Health Plan\\nTufts Health Plan Facility\\nUFCW LOCAL 1546\\nUHC INTERNATIONAL\\nUHC INTERNATIONAL Facility\\nUHC SHARED SERVICE\\nUHC ACUITY BRANDS\\nUHC Choice Plus\\nUHC Choice Plus Facility\\nUHC Choice Plus Facility\\nUHC Choice Plus Facility\\nUHC GLOBAL\\nUHC Global Facility\\nUHC MC Advantage Facility\\nUHC MCR CHRONIC COMPLETE ASSURE\\nUHC Medicare Advantage Facility\\nUHC Medicare Advantage HMO\\nUHC MEDICARE Advantage PPO\\nUHC SHARED SERVICE' metadata={'source': 'ECWInsuranceNameList2.pdf', 'page': 21}\n",
            "page_content='UHC Shared Service Facility\\nUHC Shared Services GEHA facility\\nUHC Student Resources\\nUHC STUDENT RESOURCES Facility\\nUIPG\\nUIPG\\nUMR\\nUMR Facility\\nUNICARE\\nUniCare PPO\\nUnicare PPO Facility\\nUnified Group Services\\nUnified Life Insurance Company\\nUnified Physician Network\\nUNION HEALTH SERVICES\\nUNITE HERE HEALTH\\nUNITED AMERICAN INSURANCE CO.\\nUnited Health Care\\nUNITED HEALTH CARE\\nUnited Health Care\\nUnited Health Care Choice\\nUnited Health Care Choice Facility\\nUnited Health Care community plan\\nUNITED HEALTH CARE Facility\\nUnited Health Care Facility\\nUnited Health Care GA\\nUNITED HEALTH CARE HMO CHARTER' metadata={'source': 'ECWInsuranceNameList2.pdf', 'page': 22}\n",
            "page_content='UNITED HEALTH CARE NAVIGATE GA\\nUnited Health Care Oxford plan\\nUnited Health Care Oxford plan Facility\\nUNITED HEALTH CARE STUDENT RESOURCES\\nUNITED HEALTHCARE\\nUnited Healthcare Choice Plus\\nUnited Healthcare Choice Plus\\nUnited Healthcare Core\\nUnited Healthcare Facility\\nUNITED HEALTHCARE GA\\nUNITED HEALTHCARE GA Facility\\nUnited Healthcare HMO\\nUnited Healthcare MC Facility\\nUNITED HEALTHCARE NEXUSACO OA\\nUnited HealthCare Shared Services GEHA\\nUNITED HEALTHCARE STUDENT RESOURCES 2\\nUnited Healtthcare International Facility\\nUnited National Insurance Group\\nUnited National Insurance Group 2\\nUNITED WORLD INS Mutual of Omaha\\nUnited World Life Insurance Company\\nUnitedhealthcare Choice Plus\\nUnitedHealthcare Choice Plus\\nUnitedHealthCare Core Facility\\nUnitedHealthcare GA\\nUnitedHealthcare GA Facility\\nUNITEDHEALTHCARE HMO Plan Name Il Esi Gold 3' metadata={'source': 'ECWInsuranceNameList2.pdf', 'page': 23}\n",
            "page_content='UnitedHealthcare Medicare Chronic Complete Assure (Ppo\\nUnitedHealthCare NAVIGATE\\nUnitedHealthCare Navigate Facility\\nUniv of III Campus Care\\nUniversal Assistance\\nunknown\\nUPMC Health Plan\\nUPMC HEALTH PLAN Facility\\nUPREHS\\nUSAA AUTO INSURANCE SOLUTION\\nUSAA Auto Insurance Solution Facility\\nUSAA Life Insurance Company\\nVA Community Care Network\\nVA FEE FOR BASIS\\nVILLAGEMD of Chicago\\nwalgreens\\nWEB/TPA\\nWEBTPA Facility\\nWELFARE FUND\\nWellcare Advocate MC\\nWELLCARE AHC\\nWellcare Health Plan Inc\\nWellcare Health Plans Inc Facility\\nWellcare HMO\\nWellcare HMO ADVOCATE Health Partners\\nWellfleet\\nWellSpan Population Health Facility' metadata={'source': 'ECWInsuranceNameList2.pdf', 'page': 24}\n",
            "page_content='Wellspan Population Health Services\\nWest Suburban Health Providers\\nWest Suburban Health Providers\\nWestern and Southern Financial Group\\nWestern and Southern Financial Grp 2\\nWestern United Life\\nWinston Manor Nursing Home\\nWORLD INSURANCE COMPANY\\nWPS Health Insurance\\nYouth Care Health Plan\\nZelis-Auxiant-HoChunk\\nZelis-Auxiant-HoChunk Facility\\nzzZDoNotUSEMERIDIAN HEALTH PLAN INC VMC\\nzzzPA/MEDICAID\\nzzzzBaxter Health Care Management\\nzzzzBEACON HEALTH STRATEGIES\\nzzzzBEECH STREET PPO\\nzzZZDoNotUseMERIDIAN HEALTH PLAN MMAI SEC\\nZZzzDONotUSEMERIDIAN HEALTH PLAN MMP\\nZZzzDONOTUSEMERIDIAN Plan\\nzzzzHEALTH ALLIANCE PLAN\\nzzzzHealth Spring\\nzzzzNorrage Garden\\nzzzzPrimecare West Town\\nzzzzRite Aid Pharmacy\\nzzzzRUSH PRUDENTIAL HMO\\nzzzztest' metadata={'source': 'ECWInsuranceNameList2.pdf', 'page': 25}\n",
            "page_content='zzzzTEST INS NO 21\\nzzzzTRUSTMARK\\nZZZZZDo Not USe Not Setup CorrectlyCounty Care Health Plan 2\\nZZZZZZCOOK COUNTY CARE\\nZZZZZZZZDO NOT USE MERIDIAN HEALTH PLAN ICP\\nZZZZZZZZZZZZDO NOT USEAETNA BETTER HEALTH INC ICP' metadata={'source': 'ECWInsuranceNameList2.pdf', 'page': 26}\n"
          ]
        }
      ]
    },
    {
      "cell_type": "code",
      "source": [
        "vector_db = Milvus.from_texts(\n",
        "    split_output,\n",
        "    embeddings,\n",
        "    collection_name=\"aveta1\",\n",
        "    connection_args={\"host\": \"ec2-34-223-50-104.us-west-2.compute.amazonaws.com\", \"port\": \"19530\"},\n",
        "    search_params = {\"metric\":\"IP\",\"offset\":0},\n",
        ")\n"
      ],
      "metadata": {
        "id": "hvcR2y4bNqSF"
      },
      "execution_count": null,
      "outputs": []
    },
    {
      "cell_type": "code",
      "source": [
        "vector_db1 = Milvus(\n",
        "    embeddings,\n",
        "     connection_args={\"host\": \"ec2-34-223-50-104.us-west-2.compute.amazonaws.com\", \"port\": \"19530\"},\n",
        "    collection_name=\"aveta1\",\n",
        ")"
      ],
      "metadata": {
        "id": "Fk9NpDT2c1IB"
      },
      "execution_count": null,
      "outputs": []
    },
    {
      "cell_type": "code",
      "source": [
        "query = \"Blue Cross\"\n",
        "docs = vector_db1.similarity_search(query)"
      ],
      "metadata": {
        "id": "UCMrJeixN_yG"
      },
      "execution_count": null,
      "outputs": []
    },
    {
      "cell_type": "code",
      "source": [
        "docs"
      ],
      "metadata": {
        "colab": {
          "base_uri": "https://localhost:8080/"
        },
        "id": "F_cQz0L0ODZP",
        "outputId": "fe2a27bd-9e0a-4864-ccef-f505b0307837"
      },
      "execution_count": null,
      "outputs": [
        {
          "output_type": "execute_result",
          "data": {
            "text/plain": [
              "[Document(page_content='BLUE CROSS BLUE SHIELD'),\n",
              " Document(page_content='Blue Cross Blue Shield MI'),\n",
              " Document(page_content='Arkansas Blue Cross and Blue Shield'),\n",
              " Document(page_content='ANTHEM BLUE CROSS')]"
            ]
          },
          "metadata": {},
          "execution_count": 41
        }
      ]
    },
    {
      "cell_type": "code",
      "source": [
        "from pymilvus import utility\n",
        "utility.list_collections()"
      ],
      "metadata": {
        "colab": {
          "base_uri": "https://localhost:8080/"
        },
        "id": "EkShhqZ7dmqf",
        "outputId": "327d0c22-abd8-44a1-8a44-681eb29f1f07"
      },
      "execution_count": null,
      "outputs": [
        {
          "output_type": "execute_result",
          "data": {
            "text/plain": [
              "['book', 'LangChainCollection', 'aveta', 'aveta1']"
            ]
          },
          "metadata": {},
          "execution_count": 42
        }
      ]
    },
    {
      "cell_type": "code",
      "source": [
        "collection = Collection(\"aveta1\")"
      ],
      "metadata": {
        "id": "FT_12jVMd2Ts"
      },
      "execution_count": null,
      "outputs": []
    },
    {
      "cell_type": "code",
      "source": [
        "collection"
      ],
      "metadata": {
        "colab": {
          "base_uri": "https://localhost:8080/"
        },
        "id": "XgTpsFQId4hD",
        "outputId": "b090a0f6-4b98-4005-e26b-adaed8a15ac6"
      },
      "execution_count": null,
      "outputs": [
        {
          "output_type": "execute_result",
          "data": {
            "text/plain": [
              "<Collection>:\n",
              "-------------\n",
              "<name>: aveta1\n",
              "<description>: \n",
              "<schema>: {'auto_id': True, 'description': '', 'fields': [{'name': 'text', 'description': '', 'type': <DataType.VARCHAR: 21>, 'params': {'max_length': 65535}}, {'name': 'pk', 'description': '', 'type': <DataType.INT64: 5>, 'is_primary': True, 'auto_id': True}, {'name': 'vector', 'description': '', 'type': <DataType.FLOAT_VECTOR: 101>, 'params': {'dim': 384}}]}"
            ]
          },
          "metadata": {},
          "execution_count": 44
        }
      ]
    },
    {
      "cell_type": "code",
      "source": [
        "from pymilvus import CollectionSchema, FieldSchema, DataType, Collection\n",
        "# Define the fields that would go into the schema\n",
        "## primary key mandatory\n",
        "item_id = FieldSchema(\n",
        "  name=\"id\",\n",
        "  dtype=DataType.INT64,\n",
        "  is_primary=True,\n",
        "  auto_id=True\n",
        ")\n",
        "\n",
        "## you need to provide max_length\n",
        "text = FieldSchema(\n",
        "  name=\"text\",\n",
        "  dtype=DataType.VARCHAR,\n",
        "  max_length= 50000\n",
        "\n",
        ")\n",
        "\n",
        "## one float_vector field mandatory\n",
        "embeddings = FieldSchema(\n",
        "  name=\"embeddings\",\n",
        "  dtype=DataType.FLOAT_VECTOR,\n",
        "  dim=384\n",
        ")\n",
        "## define collection schema\n",
        "schema = CollectionSchema(\n",
        "  fields=[item_id, text, embeddings],\n",
        "  description=\"Insurance Mapping\",\n",
        "  enable_dynamic_field=True\n",
        ")\n",
        "\n",
        "## define the collection\n",
        "collection = Collection(\n",
        "    name=\"aveta\",\n",
        "    schema=schema,\n",
        "    using='default'\n",
        "    )"
      ],
      "metadata": {
        "id": "8jm9uAG_XByJ"
      },
      "execution_count": null,
      "outputs": []
    },
    {
      "cell_type": "code",
      "source": [
        "vector_db_custom = Milvus.from_texts(\n",
        " split_output,\n",
        " embeddings,\n",
        " connection_args={\"host\": \"ec2-34-223-50-104.us-west-2.compute.amazonaws.com\", \"port\": \"19530\"},\n",
        " collection_name = \"aveta\", ## custom collection name\n",
        " search_params = {\"metric\":\"IP\",\"offset\":0}, ## search params\n",
        ")"
      ],
      "metadata": {
        "colab": {
          "base_uri": "https://localhost:8080/",
          "height": 409
        },
        "id": "dubM7tLAXrpo",
        "outputId": "1f4433c3-1379-448d-9f6e-faeb2a34102e"
      },
      "execution_count": null,
      "outputs": [
        {
          "output_type": "error",
          "ename": "ValueError",
          "evalue": "ignored",
          "traceback": [
            "\u001b[0;31m---------------------------------------------------------------------------\u001b[0m",
            "\u001b[0;31mValueError\u001b[0m                                Traceback (most recent call last)",
            "\u001b[0;32m<ipython-input-36-111fac374a9b>\u001b[0m in \u001b[0;36m<cell line: 1>\u001b[0;34m()\u001b[0m\n\u001b[0;32m----> 1\u001b[0;31m vector_db_custom = Milvus.from_texts(\n\u001b[0m\u001b[1;32m      2\u001b[0m  \u001b[0msplit_output\u001b[0m\u001b[0;34m,\u001b[0m\u001b[0;34m\u001b[0m\u001b[0;34m\u001b[0m\u001b[0m\n\u001b[1;32m      3\u001b[0m  \u001b[0membeddings\u001b[0m\u001b[0;34m,\u001b[0m\u001b[0;34m\u001b[0m\u001b[0;34m\u001b[0m\u001b[0m\n\u001b[1;32m      4\u001b[0m  \u001b[0mconnection_args\u001b[0m\u001b[0;34m=\u001b[0m\u001b[0;34m{\u001b[0m\u001b[0;34m\"host\"\u001b[0m\u001b[0;34m:\u001b[0m \u001b[0;34m\"ec2-34-223-50-104.us-west-2.compute.amazonaws.com\"\u001b[0m\u001b[0;34m,\u001b[0m \u001b[0;34m\"port\"\u001b[0m\u001b[0;34m:\u001b[0m \u001b[0;34m\"19530\"\u001b[0m\u001b[0;34m}\u001b[0m\u001b[0;34m,\u001b[0m\u001b[0;34m\u001b[0m\u001b[0;34m\u001b[0m\u001b[0m\n\u001b[1;32m      5\u001b[0m  \u001b[0mcollection_name\u001b[0m \u001b[0;34m=\u001b[0m \u001b[0;34m\"aveta\"\u001b[0m\u001b[0;34m,\u001b[0m \u001b[0;31m## custom collection name\u001b[0m\u001b[0;34m\u001b[0m\u001b[0;34m\u001b[0m\u001b[0m\n",
            "\u001b[0;32m/usr/local/lib/python3.10/dist-packages/langchain/vectorstores/milvus.py\u001b[0m in \u001b[0;36mfrom_texts\u001b[0;34m(cls, texts, embedding, metadatas, collection_name, connection_args, consistency_level, index_params, search_params, drop_old, **kwargs)\u001b[0m\n\u001b[1;32m    815\u001b[0m             \u001b[0mMilvus\u001b[0m\u001b[0;34m:\u001b[0m \u001b[0mMilvus\u001b[0m \u001b[0mVector\u001b[0m \u001b[0mStore\u001b[0m\u001b[0;34m\u001b[0m\u001b[0;34m\u001b[0m\u001b[0m\n\u001b[1;32m    816\u001b[0m         \"\"\"\n\u001b[0;32m--> 817\u001b[0;31m         vector_db = cls(\n\u001b[0m\u001b[1;32m    818\u001b[0m             \u001b[0membedding_function\u001b[0m\u001b[0;34m=\u001b[0m\u001b[0membedding\u001b[0m\u001b[0;34m,\u001b[0m\u001b[0;34m\u001b[0m\u001b[0;34m\u001b[0m\u001b[0m\n\u001b[1;32m    819\u001b[0m             \u001b[0mcollection_name\u001b[0m\u001b[0;34m=\u001b[0m\u001b[0mcollection_name\u001b[0m\u001b[0;34m,\u001b[0m\u001b[0;34m\u001b[0m\u001b[0;34m\u001b[0m\u001b[0m\n",
            "\u001b[0;32m/usr/local/lib/python3.10/dist-packages/langchain/vectorstores/milvus.py\u001b[0m in \u001b[0;36m__init__\u001b[0;34m(self, embedding_function, collection_name, connection_args, consistency_level, index_params, search_params, drop_old, primary_field, text_field, vector_field)\u001b[0m\n\u001b[1;32m    168\u001b[0m \u001b[0;34m\u001b[0m\u001b[0m\n\u001b[1;32m    169\u001b[0m         \u001b[0;31m# Initialize the vector store\u001b[0m\u001b[0;34m\u001b[0m\u001b[0;34m\u001b[0m\u001b[0m\n\u001b[0;32m--> 170\u001b[0;31m         \u001b[0mself\u001b[0m\u001b[0;34m.\u001b[0m\u001b[0m_init\u001b[0m\u001b[0;34m(\u001b[0m\u001b[0;34m)\u001b[0m\u001b[0;34m\u001b[0m\u001b[0;34m\u001b[0m\u001b[0m\n\u001b[0m\u001b[1;32m    171\u001b[0m \u001b[0;34m\u001b[0m\u001b[0m\n\u001b[1;32m    172\u001b[0m     \u001b[0;34m@\u001b[0m\u001b[0mproperty\u001b[0m\u001b[0;34m\u001b[0m\u001b[0;34m\u001b[0m\u001b[0m\n",
            "\u001b[0;32m/usr/local/lib/python3.10/dist-packages/langchain/vectorstores/milvus.py\u001b[0m in \u001b[0;36m_init\u001b[0;34m(self, embeddings, metadatas)\u001b[0m\n\u001b[1;32m    231\u001b[0m         \u001b[0;32mif\u001b[0m \u001b[0membeddings\u001b[0m \u001b[0;32mis\u001b[0m \u001b[0;32mnot\u001b[0m \u001b[0;32mNone\u001b[0m\u001b[0;34m:\u001b[0m\u001b[0;34m\u001b[0m\u001b[0;34m\u001b[0m\u001b[0m\n\u001b[1;32m    232\u001b[0m             \u001b[0mself\u001b[0m\u001b[0;34m.\u001b[0m\u001b[0m_create_collection\u001b[0m\u001b[0;34m(\u001b[0m\u001b[0membeddings\u001b[0m\u001b[0;34m,\u001b[0m \u001b[0mmetadatas\u001b[0m\u001b[0;34m)\u001b[0m\u001b[0;34m\u001b[0m\u001b[0;34m\u001b[0m\u001b[0m\n\u001b[0;32m--> 233\u001b[0;31m         \u001b[0mself\u001b[0m\u001b[0;34m.\u001b[0m\u001b[0m_extract_fields\u001b[0m\u001b[0;34m(\u001b[0m\u001b[0;34m)\u001b[0m\u001b[0;34m\u001b[0m\u001b[0;34m\u001b[0m\u001b[0m\n\u001b[0m\u001b[1;32m    234\u001b[0m         \u001b[0mself\u001b[0m\u001b[0;34m.\u001b[0m\u001b[0m_create_index\u001b[0m\u001b[0;34m(\u001b[0m\u001b[0;34m)\u001b[0m\u001b[0;34m\u001b[0m\u001b[0;34m\u001b[0m\u001b[0m\n\u001b[1;32m    235\u001b[0m         \u001b[0mself\u001b[0m\u001b[0;34m.\u001b[0m\u001b[0m_create_search_params\u001b[0m\u001b[0;34m(\u001b[0m\u001b[0;34m)\u001b[0m\u001b[0;34m\u001b[0m\u001b[0;34m\u001b[0m\u001b[0m\n",
            "\u001b[0;32m/usr/local/lib/python3.10/dist-packages/langchain/vectorstores/milvus.py\u001b[0m in \u001b[0;36m_extract_fields\u001b[0;34m(self)\u001b[0m\n\u001b[1;32m    311\u001b[0m                 \u001b[0mself\u001b[0m\u001b[0;34m.\u001b[0m\u001b[0mfields\u001b[0m\u001b[0;34m.\u001b[0m\u001b[0mappend\u001b[0m\u001b[0;34m(\u001b[0m\u001b[0mx\u001b[0m\u001b[0;34m.\u001b[0m\u001b[0mname\u001b[0m\u001b[0;34m)\u001b[0m\u001b[0;34m\u001b[0m\u001b[0;34m\u001b[0m\u001b[0m\n\u001b[1;32m    312\u001b[0m             \u001b[0;31m# Since primary field is auto-id, no need to track it\u001b[0m\u001b[0;34m\u001b[0m\u001b[0;34m\u001b[0m\u001b[0m\n\u001b[0;32m--> 313\u001b[0;31m             \u001b[0mself\u001b[0m\u001b[0;34m.\u001b[0m\u001b[0mfields\u001b[0m\u001b[0;34m.\u001b[0m\u001b[0mremove\u001b[0m\u001b[0;34m(\u001b[0m\u001b[0mself\u001b[0m\u001b[0;34m.\u001b[0m\u001b[0m_primary_field\u001b[0m\u001b[0;34m)\u001b[0m\u001b[0;34m\u001b[0m\u001b[0;34m\u001b[0m\u001b[0m\n\u001b[0m\u001b[1;32m    314\u001b[0m \u001b[0;34m\u001b[0m\u001b[0m\n\u001b[1;32m    315\u001b[0m     \u001b[0;32mdef\u001b[0m \u001b[0m_get_index\u001b[0m\u001b[0;34m(\u001b[0m\u001b[0mself\u001b[0m\u001b[0;34m)\u001b[0m \u001b[0;34m->\u001b[0m \u001b[0mOptional\u001b[0m\u001b[0;34m[\u001b[0m\u001b[0mdict\u001b[0m\u001b[0;34m[\u001b[0m\u001b[0mstr\u001b[0m\u001b[0;34m,\u001b[0m \u001b[0mAny\u001b[0m\u001b[0;34m]\u001b[0m\u001b[0;34m]\u001b[0m\u001b[0;34m:\u001b[0m\u001b[0;34m\u001b[0m\u001b[0;34m\u001b[0m\u001b[0m\n",
            "\u001b[0;31mValueError\u001b[0m: list.remove(x): x not in list"
          ]
        }
      ]
    }
  ]
}